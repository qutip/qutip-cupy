{
 "cells": [
  {
   "cell_type": "markdown",
   "id": "ccf6e7bf",
   "metadata": {},
   "source": [
    "# This notebbooks benchmarks matrix multiplications at different precisions with subsequent calls to cp.array.\n",
    "\n",
    "# The Hardware used is a 1080 Ti GPU connected to a PCIe 3/8x lane"
   ]
  },
  {
   "cell_type": "code",
   "execution_count": 17,
   "id": "73986251",
   "metadata": {},
   "outputs": [],
   "source": [
    "import cupy as cp"
   ]
  },
  {
   "cell_type": "code",
   "execution_count": 18,
   "id": "7b0bf156",
   "metadata": {},
   "outputs": [],
   "source": [
    "cp.cuda.Device(2).use()"
   ]
  },
  {
   "cell_type": "code",
   "execution_count": 53,
   "id": "b7caee1b",
   "metadata": {},
   "outputs": [
    {
     "data": {
      "text/plain": [
       "'9.1.0'"
      ]
     },
     "execution_count": 53,
     "metadata": {},
     "output_type": "execute_result"
    }
   ],
   "source": [
    "cp.__version__"
   ]
  },
  {
   "cell_type": "code",
   "execution_count": 19,
   "id": "d5d64b55",
   "metadata": {},
   "outputs": [],
   "source": [
    "def mult_asarr(x1,x2):\n",
    "    x3 = cp.asarray(x1@x2)\n",
    "    return x3\n",
    "\n",
    "def mult(x1,x2):\n",
    "    x3 = x1@x2\n",
    "    return x3\n",
    "\n",
    "def mult_arr(x1,x2):\n",
    "    x3 = cp.array(x1@x2,copy=True)\n",
    "    return x3\n",
    "\n",
    "def mult_arr_nc(x1,x2):\n",
    "    x3 = cp.array(x1@x2,copy=False)\n",
    "    return x3\n"
   ]
  },
  {
   "cell_type": "code",
   "execution_count": null,
   "id": "39d53ac8",
   "metadata": {},
   "outputs": [],
   "source": []
  },
  {
   "cell_type": "code",
   "execution_count": 20,
   "id": "9008765c",
   "metadata": {},
   "outputs": [],
   "source": [
    "import numpy as np"
   ]
  },
  {
   "cell_type": "markdown",
   "id": "14d7478b",
   "metadata": {},
   "source": [
    "# Double Complex benchmarks"
   ]
  },
  {
   "cell_type": "code",
   "execution_count": 21,
   "id": "30e58285",
   "metadata": {},
   "outputs": [],
   "source": [
    "x1 = cp.array(np.random.uniform(size=2000*2000) + 1.j *np.random.uniform(size=2000*2000), dtype=cp.complex128).reshape(2000, 2000)\n",
    "x2 = cp.array(np.random.uniform(size=2000*2000) + 1.j *np.random.uniform(size=2000*2000), dtype=cp.complex128).reshape(2000, 2000)"
   ]
  },
  {
   "cell_type": "code",
   "execution_count": 22,
   "id": "37321a97",
   "metadata": {},
   "outputs": [
    {
     "name": "stdout",
     "output_type": "stream",
     "text": [
      "The slowest run took 2225.38 times longer than the fastest. This could mean that an intermediate result is being cached.\n",
      "80 ms ± 80.1 ms per loop (mean ± std. dev. of 10 runs, 100 loops each)\n"
     ]
    }
   ],
   "source": [
    "%%timeit -n 100 -r 10\n",
    "x3 = x1@x2"
   ]
  },
  {
   "cell_type": "code",
   "execution_count": 23,
   "id": "db8cb9f2",
   "metadata": {},
   "outputs": [
    {
     "name": "stdout",
     "output_type": "stream",
     "text": [
      "The slowest run took 8718.64 times longer than the fastest. This could mean that an intermediate result is being cached.\n",
      "195 ms ± 227 ms per loop (mean ± std. dev. of 10 runs, 100 loops each)\n"
     ]
    }
   ],
   "source": [
    "%%timeit -n 100 -r 10\n",
    "x3 = cp.array(x1@x2,copy=True)"
   ]
  },
  {
   "cell_type": "code",
   "execution_count": null,
   "id": "b347f850",
   "metadata": {},
   "outputs": [],
   "source": []
  },
  {
   "cell_type": "code",
   "execution_count": null,
   "id": "1111795c",
   "metadata": {},
   "outputs": [],
   "source": []
  },
  {
   "cell_type": "code",
   "execution_count": 24,
   "id": "5b0583fd",
   "metadata": {},
   "outputs": [],
   "source": [
    "from cupyx.time import repeat\n",
    "\n"
   ]
  },
  {
   "cell_type": "code",
   "execution_count": 25,
   "id": "b66bf70b",
   "metadata": {},
   "outputs": [
    {
     "name": "stdout",
     "output_type": "stream",
     "text": [
      "mult                :    CPU:  116.431 us   +/-36.022 (min:   84.350 / max:  253.268) us     GPU-2:166508.626 us   +/-66.168 (min:166389.725 / max:166788.101) us\n"
     ]
    }
   ],
   "source": [
    "print(repeat(mult, (x1,x2), n_repeat=100,n_warmup=30)) "
   ]
  },
  {
   "cell_type": "code",
   "execution_count": 26,
   "id": "7bdd490f",
   "metadata": {},
   "outputs": [
    {
     "name": "stdout",
     "output_type": "stream",
     "text": [
      "mult_asarr          :    CPU:  179.477 us   +/-66.521 (min:   90.359 / max:  372.948) us     GPU-2:166558.448 us   +/-65.667 (min:166420.486 / max:166797.318) us\n"
     ]
    }
   ],
   "source": [
    "print(repeat(mult_asarr, (x1,x2), n_repeat=100,n_warmup=30)) "
   ]
  },
  {
   "cell_type": "code",
   "execution_count": 27,
   "id": "39561cce",
   "metadata": {},
   "outputs": [
    {
     "name": "stdout",
     "output_type": "stream",
     "text": [
      "mult_arr            :    CPU:  180.583 us   +/-67.698 (min:  109.039 / max:  352.937) us     GPU-2:166913.096 us   +/-64.060 (min:166813.477 / max:167102.432) us\n"
     ]
    }
   ],
   "source": [
    "print(repeat(mult_arr, (x1,x2), n_repeat=100,n_warmup=30)) "
   ]
  },
  {
   "cell_type": "code",
   "execution_count": 28,
   "id": "dbd466d8",
   "metadata": {},
   "outputs": [
    {
     "name": "stdout",
     "output_type": "stream",
     "text": [
      "mult_arr_nc         :    CPU:  141.459 us   +/-51.971 (min:   89.989 / max:  253.288) us     GPU-2:166563.221 us   +/-73.784 (min:166426.620 / max:166861.816) us\n"
     ]
    }
   ],
   "source": [
    "print(repeat(mult_arr_nc, (x1,x2), n_repeat=100,n_warmup=30)) "
   ]
  },
  {
   "cell_type": "code",
   "execution_count": null,
   "id": "9051d3b8",
   "metadata": {},
   "outputs": [],
   "source": []
  },
  {
   "cell_type": "code",
   "execution_count": 130,
   "id": "7b9cbd32",
   "metadata": {},
   "outputs": [
    {
     "name": "stdout",
     "output_type": "stream",
     "text": [
      "The slowest run took 2078.32 times longer than the fastest. This could mean that an intermediate result is being cached.\n",
      "82.1 ms ± 82.2 ms per loop (mean ± std. dev. of 10 runs, 100 loops each)\n"
     ]
    }
   ],
   "source": [
    "%%timeit -n 100 -r 10\n",
    "mult(x1,x2);"
   ]
  },
  {
   "cell_type": "code",
   "execution_count": 131,
   "id": "2611fdc5",
   "metadata": {},
   "outputs": [
    {
     "name": "stdout",
     "output_type": "stream",
     "text": [
      "197 ms ± 37.4 ms per loop (mean ± std. dev. of 10 runs, 100 loops each)\n"
     ]
    }
   ],
   "source": [
    "%%timeit -n 100 -r 10\n",
    "mult_arr(x1,x2);"
   ]
  },
  {
   "cell_type": "code",
   "execution_count": 132,
   "id": "72ed6466",
   "metadata": {},
   "outputs": [
    {
     "name": "stdout",
     "output_type": "stream",
     "text": [
      "139 ms ± 27.3 ms per loop (mean ± std. dev. of 10 runs, 100 loops each)\n"
     ]
    }
   ],
   "source": [
    "%%timeit -n 100 -r 10\n",
    "mult_asarr(x1,x2);"
   ]
  },
  {
   "cell_type": "code",
   "execution_count": null,
   "id": "96d5ba17",
   "metadata": {},
   "outputs": [],
   "source": []
  },
  {
   "cell_type": "markdown",
   "id": "840dfb29",
   "metadata": {},
   "source": [
    "# Single Complex Benchmarks"
   ]
  },
  {
   "cell_type": "code",
   "execution_count": null,
   "id": "a1d0a514",
   "metadata": {},
   "outputs": [],
   "source": []
  },
  {
   "cell_type": "code",
   "execution_count": 35,
   "id": "969f2b41",
   "metadata": {},
   "outputs": [],
   "source": [
    "x1 = cp.array(np.random.uniform(size=2000*2000) + 1.j *np.random.uniform(size=2000*2000), dtype=cp.complex64).reshape(2000, 2000)\n",
    "x2 = cp.array(np.random.uniform(size=2000*2000) + 1.j *np.random.uniform(size=2000*2000), dtype=cp.complex64).reshape(2000, 2000)"
   ]
  },
  {
   "cell_type": "code",
   "execution_count": 36,
   "id": "678a4aa4",
   "metadata": {},
   "outputs": [],
   "source": [
    "from cupyx.time import repeat\n",
    "\n"
   ]
  },
  {
   "cell_type": "code",
   "execution_count": 37,
   "id": "eea2908f",
   "metadata": {},
   "outputs": [
    {
     "name": "stdout",
     "output_type": "stream",
     "text": [
      "mult                :    CPU:   96.657 us   +/-33.156 (min:   78.560 / max:  250.238) us     GPU-2: 6136.612 us   +/-96.065 (min: 5981.184 / max: 6447.104) us\n"
     ]
    }
   ],
   "source": [
    "print(repeat(mult, (x1,x2), n_repeat=100,n_warmup=30)) "
   ]
  },
  {
   "cell_type": "code",
   "execution_count": 38,
   "id": "2e2a498e",
   "metadata": {},
   "outputs": [
    {
     "name": "stdout",
     "output_type": "stream",
     "text": [
      "mult_asarr          :    CPU:   89.201 us   +/-19.072 (min:   81.540 / max:  241.718) us     GPU-2: 6121.749 us   +/-40.298 (min: 6022.144 / max: 6293.504) us\n"
     ]
    }
   ],
   "source": [
    "print(repeat(mult_asarr, (x1,x2), n_repeat=100,n_warmup=30)) "
   ]
  },
  {
   "cell_type": "code",
   "execution_count": 39,
   "id": "0484a1d2",
   "metadata": {},
   "outputs": [
    {
     "name": "stdout",
     "output_type": "stream",
     "text": [
      "mult_arr            :    CPU:  113.073 us   +/-30.773 (min:  100.930 / max:  309.508) us     GPU-2: 6294.140 us   +/-40.418 (min: 6181.888 / max: 6409.216) us\n"
     ]
    }
   ],
   "source": [
    "print(repeat(mult_arr, (x1,x2), n_repeat=100,n_warmup=30)) "
   ]
  },
  {
   "cell_type": "code",
   "execution_count": 40,
   "id": "9f24fb3c",
   "metadata": {},
   "outputs": [
    {
     "name": "stdout",
     "output_type": "stream",
     "text": [
      "mult_arr_nc         :    CPU:   86.710 us   +/-17.326 (min:   81.820 / max:  248.969) us     GPU-2: 6151.248 us   +/-27.968 (min: 6041.600 / max: 6301.696) us\n"
     ]
    }
   ],
   "source": [
    "print(repeat(mult_arr_nc, (x1,x2), n_repeat=100,n_warmup=30)) "
   ]
  },
  {
   "cell_type": "code",
   "execution_count": null,
   "id": "99da702c",
   "metadata": {},
   "outputs": [],
   "source": []
  },
  {
   "cell_type": "code",
   "execution_count": null,
   "id": "fb1695bf",
   "metadata": {},
   "outputs": [],
   "source": []
  },
  {
   "cell_type": "markdown",
   "id": "a3bafd0f",
   "metadata": {},
   "source": [
    "# Double Benchmarks"
   ]
  },
  {
   "cell_type": "code",
   "execution_count": 41,
   "id": "ecd0e7a3",
   "metadata": {},
   "outputs": [],
   "source": [
    "x1 = cp.arange(2000*2000, dtype=cp.float64).reshape(2000, 2000)\n",
    "x2 = cp.arange(2000*2000, dtype=cp.float64).reshape(2000, 2000)"
   ]
  },
  {
   "cell_type": "code",
   "execution_count": 42,
   "id": "f109be69",
   "metadata": {},
   "outputs": [
    {
     "name": "stdout",
     "output_type": "stream",
     "text": [
      "The slowest run took 595.32 times longer than the fastest. This could mean that an intermediate result is being cached.\n",
      "30 ms ± 20.3 ms per loop (mean ± std. dev. of 10 runs, 100 loops each)\n"
     ]
    }
   ],
   "source": [
    "%%timeit -n 100 -r 10\n",
    "x3 = x1@x2"
   ]
  },
  {
   "cell_type": "code",
   "execution_count": 43,
   "id": "36932009",
   "metadata": {},
   "outputs": [
    {
     "name": "stdout",
     "output_type": "stream",
     "text": [
      "The slowest run took 1581.77 times longer than the fastest. This could mean that an intermediate result is being cached.\n",
      "49.7 ms ± 38.4 ms per loop (mean ± std. dev. of 10 runs, 100 loops each)\n"
     ]
    }
   ],
   "source": [
    "%%timeit -n 100 -r 10\n",
    "x3 = cp.array(x1@x2)"
   ]
  },
  {
   "cell_type": "code",
   "execution_count": null,
   "id": "3f953b96",
   "metadata": {},
   "outputs": [],
   "source": []
  },
  {
   "cell_type": "code",
   "execution_count": 44,
   "id": "b73737d6",
   "metadata": {},
   "outputs": [
    {
     "name": "stdout",
     "output_type": "stream",
     "text": [
      "mult                :    CPU:  102.837 us   +/-31.784 (min:   82.109 / max:  248.529) us     GPU-2:45816.684 us   +/-35.946 (min:45784.065 / max:46047.039) us\n"
     ]
    }
   ],
   "source": [
    "print(repeat(mult, (x1,x2), n_repeat=100,n_warmup=30)) "
   ]
  },
  {
   "cell_type": "code",
   "execution_count": 45,
   "id": "940c90eb",
   "metadata": {},
   "outputs": [
    {
     "name": "stdout",
     "output_type": "stream",
     "text": [
      "mult_asarr          :    CPU:   97.622 us   +/-21.741 (min:   83.730 / max:  249.818) us     GPU-2:45809.086 us   +/-18.976 (min:45784.065 / max:45946.880) us\n"
     ]
    }
   ],
   "source": [
    "print(repeat(mult_asarr, (x1,x2), n_repeat=100,n_warmup=30)) "
   ]
  },
  {
   "cell_type": "code",
   "execution_count": 46,
   "id": "ee868df2",
   "metadata": {},
   "outputs": [
    {
     "name": "stdout",
     "output_type": "stream",
     "text": [
      "mult_arr            :    CPU:  117.513 us   +/-32.771 (min:  104.140 / max:  344.598) us     GPU-2:45974.173 us   +/-23.601 (min:45954.048 / max:46135.296) us\n"
     ]
    }
   ],
   "source": [
    "print(repeat(mult_arr, (x1,x2), n_repeat=100,n_warmup=30)) "
   ]
  },
  {
   "cell_type": "code",
   "execution_count": 47,
   "id": "9ffdd04a",
   "metadata": {},
   "outputs": [
    {
     "name": "stdout",
     "output_type": "stream",
     "text": [
      "mult_arr_nc         :    CPU:   91.245 us   +/-17.941 (min:   83.300 / max:  244.238) us     GPU-2:45801.933 us   +/-15.540 (min:45784.065 / max:45935.616) us\n"
     ]
    }
   ],
   "source": [
    "print(repeat(mult_arr_nc, (x1,x2), n_repeat=100,n_warmup=30)) "
   ]
  },
  {
   "cell_type": "code",
   "execution_count": null,
   "id": "47d8230b",
   "metadata": {},
   "outputs": [],
   "source": []
  },
  {
   "cell_type": "code",
   "execution_count": null,
   "id": "392e17ef",
   "metadata": {},
   "outputs": [],
   "source": []
  },
  {
   "cell_type": "code",
   "execution_count": null,
   "id": "a6361356",
   "metadata": {},
   "outputs": [],
   "source": []
  },
  {
   "cell_type": "markdown",
   "id": "c063c795",
   "metadata": {},
   "source": [
    "# Single Benchmarks"
   ]
  },
  {
   "cell_type": "code",
   "execution_count": 48,
   "id": "f922b396",
   "metadata": {},
   "outputs": [],
   "source": [
    "x1 = cp.arange(2000*2000, dtype=cp.float32).reshape(2000, 2000)\n",
    "x2 = cp.arange(2000*2000, dtype=cp.float32).reshape(2000, 2000)"
   ]
  },
  {
   "cell_type": "code",
   "execution_count": null,
   "id": "0fd522fb",
   "metadata": {},
   "outputs": [],
   "source": []
  },
  {
   "cell_type": "code",
   "execution_count": 49,
   "id": "428fdcce",
   "metadata": {},
   "outputs": [
    {
     "name": "stdout",
     "output_type": "stream",
     "text": [
      "mult                :    CPU:   84.947 us   +/-10.653 (min:   77.920 / max:  131.269) us     GPU-2: 1739.193 us   +/-12.112 (min: 1718.272 / max: 1769.472) us\n"
     ]
    }
   ],
   "source": [
    "print(repeat(mult, (x1,x2), n_repeat=100,n_warmup=30)) "
   ]
  },
  {
   "cell_type": "code",
   "execution_count": 50,
   "id": "0e2ca7ef",
   "metadata": {},
   "outputs": [
    {
     "name": "stdout",
     "output_type": "stream",
     "text": [
      "mult_asarr          :    CPU:   84.086 us   +/- 4.582 (min:   80.399 / max:  121.170) us     GPU-2: 1729.584 us   +/- 4.898 (min: 1722.240 / max: 1762.208) us\n"
     ]
    }
   ],
   "source": [
    "print(repeat(mult_asarr, (x1,x2), n_repeat=100,n_warmup=30)) "
   ]
  },
  {
   "cell_type": "code",
   "execution_count": 51,
   "id": "7b5fd05e",
   "metadata": {},
   "outputs": [
    {
     "name": "stdout",
     "output_type": "stream",
     "text": [
      "mult_arr            :    CPU:  105.760 us   +/- 4.220 (min:  101.959 / max:  138.680) us     GPU-2: 1814.397 us   +/- 4.001 (min: 1807.360 / max: 1832.960) us\n"
     ]
    }
   ],
   "source": [
    "print(repeat(mult_arr, (x1,x2), n_repeat=100,n_warmup=30)) "
   ]
  },
  {
   "cell_type": "code",
   "execution_count": 52,
   "id": "ff0f182e",
   "metadata": {},
   "outputs": [
    {
     "name": "stdout",
     "output_type": "stream",
     "text": [
      "mult_arr_nc         :    CPU:   86.511 us   +/-14.318 (min:   81.090 / max:  204.599) us     GPU-2: 1740.374 us   +/-13.098 (min: 1724.416 / max: 1830.656) us\n"
     ]
    }
   ],
   "source": [
    "print(repeat(mult_arr_nc, (x1,x2), n_repeat=100,n_warmup=30)) "
   ]
  },
  {
   "cell_type": "code",
   "execution_count": null,
   "id": "9b9e8353",
   "metadata": {},
   "outputs": [],
   "source": []
  },
  {
   "cell_type": "code",
   "execution_count": null,
   "id": "d6f01b23",
   "metadata": {},
   "outputs": [],
   "source": []
  },
  {
   "cell_type": "markdown",
   "id": "2deb7e27",
   "metadata": {},
   "source": [
    "# The Hardware used is a 2080 Ti GPU connected to a PCIe 3/16x lane"
   ]
  },
  {
   "cell_type": "code",
   "execution_count": 54,
   "id": "37d58a46",
   "metadata": {},
   "outputs": [],
   "source": [
    "cp.cuda.Device(0).use()"
   ]
  },
  {
   "cell_type": "code",
   "execution_count": null,
   "id": "3ef1e5a7",
   "metadata": {},
   "outputs": [],
   "source": []
  },
  {
   "cell_type": "markdown",
   "id": "f7d9e12d",
   "metadata": {},
   "source": [
    "# Double Complex benchmarks"
   ]
  },
  {
   "cell_type": "code",
   "execution_count": 55,
   "id": "a5589bf6",
   "metadata": {},
   "outputs": [],
   "source": [
    "x1 = cp.array(np.random.uniform(size=2000*2000) + 1.j *np.random.uniform(size=2000*2000), dtype=cp.complex128).reshape(2000, 2000)\n",
    "x2 = cp.array(np.random.uniform(size=2000*2000) + 1.j *np.random.uniform(size=2000*2000), dtype=cp.complex128).reshape(2000, 2000)"
   ]
  },
  {
   "cell_type": "code",
   "execution_count": 56,
   "id": "da4c4013",
   "metadata": {},
   "outputs": [
    {
     "name": "stdout",
     "output_type": "stream",
     "text": [
      "The slowest run took 1776.72 times longer than the fastest. This could mean that an intermediate result is being cached.\n",
      "64 ms ± 63.7 ms per loop (mean ± std. dev. of 10 runs, 100 loops each)\n"
     ]
    }
   ],
   "source": [
    "%%timeit -n 100 -r 10\n",
    "x3 = x1@x2"
   ]
  },
  {
   "cell_type": "code",
   "execution_count": 57,
   "id": "f096f369",
   "metadata": {},
   "outputs": [
    {
     "name": "stdout",
     "output_type": "stream",
     "text": [
      "The slowest run took 6979.55 times longer than the fastest. This could mean that an intermediate result is being cached.\n",
      "165 ms ± 185 ms per loop (mean ± std. dev. of 10 runs, 100 loops each)\n"
     ]
    }
   ],
   "source": [
    "%%timeit -n 100 -r 10\n",
    "x3 = cp.array(x1@x2,copy=True)"
   ]
  },
  {
   "cell_type": "code",
   "execution_count": null,
   "id": "dde51187",
   "metadata": {},
   "outputs": [],
   "source": []
  },
  {
   "cell_type": "code",
   "execution_count": null,
   "id": "a5ca8c85",
   "metadata": {},
   "outputs": [],
   "source": []
  },
  {
   "cell_type": "code",
   "execution_count": 58,
   "id": "54b20754",
   "metadata": {},
   "outputs": [],
   "source": [
    "from cupyx.time import repeat\n",
    "\n"
   ]
  },
  {
   "cell_type": "code",
   "execution_count": 59,
   "id": "57813864",
   "metadata": {},
   "outputs": [
    {
     "name": "stdout",
     "output_type": "stream",
     "text": [
      "mult                :    CPU:  152.365 us   +/-59.756 (min:   83.360 / max:  259.109) us     GPU-0:144359.401 us   +/-5557.052 (min:135135.239 / max:153556.992) us\n"
     ]
    }
   ],
   "source": [
    "print(repeat(mult, (x1,x2), n_repeat=100,n_warmup=30)) "
   ]
  },
  {
   "cell_type": "code",
   "execution_count": 60,
   "id": "b7efebd6",
   "metadata": {},
   "outputs": [
    {
     "name": "stdout",
     "output_type": "stream",
     "text": [
      "mult_asarr          :    CPU:  167.561 us   +/-63.160 (min:   91.080 / max:  269.889) us     GPU-0:144103.770 us   +/-5486.232 (min:135075.745 / max:154463.226) us\n"
     ]
    }
   ],
   "source": [
    "print(repeat(mult_asarr, (x1,x2), n_repeat=100,n_warmup=30)) "
   ]
  },
  {
   "cell_type": "code",
   "execution_count": 61,
   "id": "ff917091",
   "metadata": {},
   "outputs": [
    {
     "name": "stdout",
     "output_type": "stream",
     "text": [
      "mult_arr            :    CPU:  237.373 us   +/-67.534 (min:  119.950 / max:  402.548) us     GPU-0:144880.880 us   +/-5591.313 (min:135366.013 / max:156071.838) us\n"
     ]
    }
   ],
   "source": [
    "print(repeat(mult_arr, (x1,x2), n_repeat=100,n_warmup=30)) "
   ]
  },
  {
   "cell_type": "code",
   "execution_count": 62,
   "id": "3d8955fc",
   "metadata": {},
   "outputs": [
    {
     "name": "stdout",
     "output_type": "stream",
     "text": [
      "mult_arr_nc         :    CPU:  178.968 us   +/-53.741 (min:   90.839 / max:  300.279) us     GPU-0:144002.112 us   +/-5295.327 (min:135077.667 / max:154351.166) us\n"
     ]
    }
   ],
   "source": [
    "print(repeat(mult_arr_nc, (x1,x2), n_repeat=100,n_warmup=30)) "
   ]
  },
  {
   "cell_type": "code",
   "execution_count": null,
   "id": "a94699d3",
   "metadata": {},
   "outputs": [],
   "source": []
  },
  {
   "cell_type": "code",
   "execution_count": 63,
   "id": "e3bf6e15",
   "metadata": {},
   "outputs": [
    {
     "name": "stdout",
     "output_type": "stream",
     "text": [
      "The slowest run took 1732.79 times longer than the fastest. This could mean that an intermediate result is being cached.\n",
      "70.3 ms ± 70.3 ms per loop (mean ± std. dev. of 10 runs, 100 loops each)\n"
     ]
    }
   ],
   "source": [
    "%%timeit -n 100 -r 10\n",
    "mult(x1,x2);"
   ]
  },
  {
   "cell_type": "code",
   "execution_count": 64,
   "id": "2bf3bf66",
   "metadata": {},
   "outputs": [
    {
     "name": "stdout",
     "output_type": "stream",
     "text": [
      "168 ms ± 32.2 ms per loop (mean ± std. dev. of 10 runs, 100 loops each)\n"
     ]
    }
   ],
   "source": [
    "%%timeit -n 100 -r 10\n",
    "mult_arr(x1,x2);"
   ]
  },
  {
   "cell_type": "code",
   "execution_count": 65,
   "id": "4140a579",
   "metadata": {},
   "outputs": [
    {
     "name": "stdout",
     "output_type": "stream",
     "text": [
      "119 ms ± 23.3 ms per loop (mean ± std. dev. of 10 runs, 100 loops each)\n"
     ]
    }
   ],
   "source": [
    "%%timeit -n 100 -r 10\n",
    "mult_asarr(x1,x2);"
   ]
  },
  {
   "cell_type": "code",
   "execution_count": null,
   "id": "2724995c",
   "metadata": {},
   "outputs": [],
   "source": []
  },
  {
   "cell_type": "markdown",
   "id": "6950f68b",
   "metadata": {},
   "source": [
    "# Single Complex Benchmarks"
   ]
  },
  {
   "cell_type": "code",
   "execution_count": null,
   "id": "36ca9ca9",
   "metadata": {},
   "outputs": [],
   "source": []
  },
  {
   "cell_type": "code",
   "execution_count": 66,
   "id": "fc29df47",
   "metadata": {},
   "outputs": [],
   "source": [
    "x1 = cp.array(np.random.uniform(size=2000*2000) + 1.j *np.random.uniform(size=2000*2000), dtype=cp.complex64).reshape(2000, 2000)\n",
    "x2 = cp.array(np.random.uniform(size=2000*2000) + 1.j *np.random.uniform(size=2000*2000), dtype=cp.complex64).reshape(2000, 2000)"
   ]
  },
  {
   "cell_type": "code",
   "execution_count": 67,
   "id": "57f48e71",
   "metadata": {},
   "outputs": [],
   "source": [
    "from cupyx.time import repeat\n",
    "\n"
   ]
  },
  {
   "cell_type": "code",
   "execution_count": 68,
   "id": "00f79e32",
   "metadata": {},
   "outputs": [
    {
     "name": "stdout",
     "output_type": "stream",
     "text": [
      "mult                :    CPU:   87.802 us   +/-19.414 (min:   82.039 / max:  270.289) us     GPU-0: 5865.767 us   +/-50.319 (min: 5734.944 / max: 6070.528) us\n"
     ]
    }
   ],
   "source": [
    "print(repeat(mult, (x1,x2), n_repeat=100,n_warmup=30)) "
   ]
  },
  {
   "cell_type": "code",
   "execution_count": 69,
   "id": "81d4a018",
   "metadata": {},
   "outputs": [
    {
     "name": "stdout",
     "output_type": "stream",
     "text": [
      "mult_asarr          :    CPU:   89.805 us   +/-17.634 (min:   84.180 / max:  255.629) us     GPU-0: 5858.912 us   +/-61.742 (min: 5734.656 / max: 6054.080) us\n"
     ]
    }
   ],
   "source": [
    "print(repeat(mult_asarr, (x1,x2), n_repeat=100,n_warmup=30)) "
   ]
  },
  {
   "cell_type": "code",
   "execution_count": 70,
   "id": "dc517585",
   "metadata": {},
   "outputs": [
    {
     "name": "stdout",
     "output_type": "stream",
     "text": [
      "mult_arr            :    CPU:  114.124 us   +/-10.103 (min:  106.700 / max:  162.310) us     GPU-0: 5966.839 us   +/-61.517 (min: 5857.024 / max: 6064.192) us\n"
     ]
    }
   ],
   "source": [
    "print(repeat(mult_arr, (x1,x2), n_repeat=100,n_warmup=30)) "
   ]
  },
  {
   "cell_type": "code",
   "execution_count": 71,
   "id": "2c28214a",
   "metadata": {},
   "outputs": [
    {
     "name": "stdout",
     "output_type": "stream",
     "text": [
      "mult_arr_nc         :    CPU:   88.828 us   +/-17.024 (min:   83.729 / max:  255.639) us     GPU-0: 5888.378 us   +/-71.942 (min: 5746.432 / max: 6155.264) us\n"
     ]
    }
   ],
   "source": [
    "print(repeat(mult_arr_nc, (x1,x2), n_repeat=100,n_warmup=30)) "
   ]
  },
  {
   "cell_type": "code",
   "execution_count": null,
   "id": "4d46662b",
   "metadata": {},
   "outputs": [],
   "source": []
  },
  {
   "cell_type": "code",
   "execution_count": null,
   "id": "1c4e5bdd",
   "metadata": {},
   "outputs": [],
   "source": []
  },
  {
   "cell_type": "markdown",
   "id": "e93c7f67",
   "metadata": {},
   "source": [
    "# Double Benchmarks"
   ]
  },
  {
   "cell_type": "code",
   "execution_count": 72,
   "id": "4792b87d",
   "metadata": {},
   "outputs": [],
   "source": [
    "x1 = cp.arange(2000*2000, dtype=cp.float64).reshape(2000, 2000)\n",
    "x2 = cp.arange(2000*2000, dtype=cp.float64).reshape(2000, 2000)"
   ]
  },
  {
   "cell_type": "code",
   "execution_count": 73,
   "id": "51f33898",
   "metadata": {},
   "outputs": [
    {
     "name": "stdout",
     "output_type": "stream",
     "text": [
      "The slowest run took 453.32 times longer than the fastest. This could mean that an intermediate result is being cached.\n",
      "25.2 ms ± 17 ms per loop (mean ± std. dev. of 10 runs, 100 loops each)\n"
     ]
    }
   ],
   "source": [
    "%%timeit -n 100 -r 10\n",
    "x3 = x1@x2"
   ]
  },
  {
   "cell_type": "code",
   "execution_count": 74,
   "id": "f09bd3f5",
   "metadata": {},
   "outputs": [
    {
     "name": "stdout",
     "output_type": "stream",
     "text": [
      "The slowest run took 1266.16 times longer than the fastest. This could mean that an intermediate result is being cached.\n",
      "41.1 ms ± 31.8 ms per loop (mean ± std. dev. of 10 runs, 100 loops each)\n"
     ]
    }
   ],
   "source": [
    "%%timeit -n 100 -r 10\n",
    "x3 = cp.array(x1@x2)"
   ]
  },
  {
   "cell_type": "code",
   "execution_count": null,
   "id": "20e6f598",
   "metadata": {},
   "outputs": [],
   "source": []
  },
  {
   "cell_type": "code",
   "execution_count": 75,
   "id": "811a556b",
   "metadata": {},
   "outputs": [
    {
     "name": "stdout",
     "output_type": "stream",
     "text": [
      "mult                :    CPU:  179.479 us   +/-52.906 (min:   88.710 / max:  255.609) us     GPU-0:38019.862 us   +/-1219.887 (min:36090.145 / max:40228.642) us\n"
     ]
    }
   ],
   "source": [
    "print(repeat(mult, (x1,x2), n_repeat=100,n_warmup=30)) "
   ]
  },
  {
   "cell_type": "code",
   "execution_count": 76,
   "id": "9b7f1092",
   "metadata": {},
   "outputs": [
    {
     "name": "stdout",
     "output_type": "stream",
     "text": [
      "mult_asarr          :    CPU:  116.679 us   +/-50.911 (min:   86.289 / max:  294.279) us     GPU-0:37948.303 us   +/-1001.912 (min:36087.807 / max:39544.830) us\n"
     ]
    }
   ],
   "source": [
    "print(repeat(mult_asarr, (x1,x2), n_repeat=100,n_warmup=30)) "
   ]
  },
  {
   "cell_type": "code",
   "execution_count": 77,
   "id": "8d13421f",
   "metadata": {},
   "outputs": [
    {
     "name": "stdout",
     "output_type": "stream",
     "text": [
      "mult_arr            :    CPU:  119.390 us   +/-28.024 (min:  106.580 / max:  299.999) us     GPU-0:37784.357 us   +/-1079.357 (min:36205.055 / max:40059.551) us\n"
     ]
    }
   ],
   "source": [
    "print(repeat(mult_arr, (x1,x2), n_repeat=100,n_warmup=30)) "
   ]
  },
  {
   "cell_type": "code",
   "execution_count": 78,
   "id": "f3098f07",
   "metadata": {},
   "outputs": [
    {
     "name": "stdout",
     "output_type": "stream",
     "text": [
      "mult_arr_nc         :    CPU:   99.056 us   +/-24.263 (min:   85.920 / max:  247.239) us     GPU-0:37877.397 us   +/-1264.400 (min:36084.095 / max:40126.465) us\n"
     ]
    }
   ],
   "source": [
    "print(repeat(mult_arr_nc, (x1,x2), n_repeat=100,n_warmup=30)) "
   ]
  },
  {
   "cell_type": "code",
   "execution_count": null,
   "id": "9fd4dfb0",
   "metadata": {},
   "outputs": [],
   "source": []
  },
  {
   "cell_type": "code",
   "execution_count": null,
   "id": "c716cf46",
   "metadata": {},
   "outputs": [],
   "source": []
  },
  {
   "cell_type": "code",
   "execution_count": null,
   "id": "b86d1c88",
   "metadata": {},
   "outputs": [],
   "source": []
  },
  {
   "cell_type": "markdown",
   "id": "ba66a39f",
   "metadata": {},
   "source": [
    "# Single Benchmarks"
   ]
  },
  {
   "cell_type": "code",
   "execution_count": 79,
   "id": "93ddc634",
   "metadata": {},
   "outputs": [],
   "source": [
    "x1 = cp.arange(2000*2000, dtype=cp.float32).reshape(2000, 2000)\n",
    "x2 = cp.arange(2000*2000, dtype=cp.float32).reshape(2000, 2000)"
   ]
  },
  {
   "cell_type": "code",
   "execution_count": null,
   "id": "435dd224",
   "metadata": {},
   "outputs": [],
   "source": []
  },
  {
   "cell_type": "code",
   "execution_count": 80,
   "id": "1c85a007",
   "metadata": {},
   "outputs": [
    {
     "name": "stdout",
     "output_type": "stream",
     "text": [
      "mult                :    CPU:   92.214 us   +/- 3.939 (min:   89.259 / max:  125.220) us     GPU-0: 1588.180 us   +/-66.454 (min: 1530.112 / max: 1743.200) us\n"
     ]
    }
   ],
   "source": [
    "print(repeat(mult, (x1,x2), n_repeat=100,n_warmup=30)) "
   ]
  },
  {
   "cell_type": "code",
   "execution_count": 81,
   "id": "381671ec",
   "metadata": {},
   "outputs": [
    {
     "name": "stdout",
     "output_type": "stream",
     "text": [
      "mult_asarr          :    CPU:   94.536 us   +/- 4.862 (min:   90.910 / max:  132.240) us     GPU-0: 1544.783 us   +/-10.859 (min: 1529.472 / max: 1581.056) us\n"
     ]
    }
   ],
   "source": [
    "print(repeat(mult_asarr, (x1,x2), n_repeat=100,n_warmup=30)) "
   ]
  },
  {
   "cell_type": "code",
   "execution_count": 82,
   "id": "1a32ea4a",
   "metadata": {},
   "outputs": [
    {
     "name": "stdout",
     "output_type": "stream",
     "text": [
      "mult_arr            :    CPU:  114.795 us   +/- 2.394 (min:  111.319 / max:  127.420) us     GPU-0: 1635.588 us   +/-58.637 (min: 1577.152 / max: 1764.192) us\n"
     ]
    }
   ],
   "source": [
    "print(repeat(mult_arr, (x1,x2), n_repeat=100,n_warmup=30)) "
   ]
  },
  {
   "cell_type": "code",
   "execution_count": 83,
   "id": "41b2e847",
   "metadata": {},
   "outputs": [
    {
     "name": "stdout",
     "output_type": "stream",
     "text": [
      "mult_arr_nc         :    CPU:   93.958 us   +/- 3.701 (min:   90.670 / max:  115.840) us     GPU-0: 1540.557 us   +/- 7.272 (min: 1528.448 / max: 1555.296) us\n"
     ]
    }
   ],
   "source": [
    "print(repeat(mult_arr_nc, (x1,x2), n_repeat=100,n_warmup=30)) "
   ]
  },
  {
   "cell_type": "code",
   "execution_count": null,
   "id": "9ad1ccaa",
   "metadata": {},
   "outputs": [],
   "source": []
  },
  {
   "cell_type": "code",
   "execution_count": null,
   "id": "2c5cb4b9",
   "metadata": {},
   "outputs": [],
   "source": []
  },
  {
   "cell_type": "code",
   "execution_count": null,
   "id": "20f8d2b3",
   "metadata": {},
   "outputs": [],
   "source": []
  },
  {
   "cell_type": "code",
   "execution_count": null,
   "id": "5b05b779",
   "metadata": {},
   "outputs": [],
   "source": []
  },
  {
   "cell_type": "code",
   "execution_count": null,
   "id": "6f103c77",
   "metadata": {},
   "outputs": [],
   "source": []
  }
 ],
 "metadata": {
  "kernelspec": {
   "display_name": "cupy_toolkit_10_1",
   "language": "python",
   "name": "cupy_toolkit_10_1"
  },
  "language_info": {
   "codemirror_mode": {
    "name": "ipython",
    "version": 3
   },
   "file_extension": ".py",
   "mimetype": "text/x-python",
   "name": "python",
   "nbconvert_exporter": "python",
   "pygments_lexer": "ipython3",
   "version": "3.7.10"
  }
 },
 "nbformat": 4,
 "nbformat_minor": 5
}
